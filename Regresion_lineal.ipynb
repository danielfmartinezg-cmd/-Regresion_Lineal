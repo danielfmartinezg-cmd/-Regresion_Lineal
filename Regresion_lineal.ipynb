{
  "cells": [
    {
      "cell_type": "markdown",
      "metadata": {
        "id": "view-in-github",
        "colab_type": "text"
      },
      "source": [
        "<a href=\"https://colab.research.google.com/github/danielfmartinezg-cmd/-Regresion_Lineal/blob/main/Regresion_lineal.ipynb\" target=\"_parent\"><img src=\"https://colab.research.google.com/assets/colab-badge.svg\" alt=\"Open In Colab\"/></a>"
      ]
    },
    {
      "cell_type": "markdown",
      "metadata": {
        "id": "Ii_7DdtJH8e2"
      },
      "source": [
        "# Taller 3: Regresión Lineal y Conceptos Fundamentales\n",
        "\n",
        "\n"
      ],
      "id": "Ii_7DdtJH8e2"
    },
    {
      "cell_type": "markdown",
      "metadata": {
        "id": "1KuTZ6PkH8e5"
      },
      "source": [
        "## Instrucciones Generales\n",
        "\n",
        "**Fecha de entrega:** 20 de septiembre.\n",
        "**Tiempo disponible:** Tienen dos clases y el fin de semana para completar el taller.\n",
        "\n",
        "1.  **Trabajo en Grupo:** Este taller se debe realizar en los grupos previamente definidos.\n",
        "2.  **Repositorio en GitHub:** Cada grupo debe crear un repositorio en GitHub.\n",
        "    * Una sola persona del grupo es responsable de crearlo.\n",
        "    * El repositorio debe llamarse **`Regresion_Lineal`**.\n",
        "    * Este archivo debe ser subido al repositorio con el nombre **`Regresion_Lineal.ipynb`**.\n",
        "    * **Alternativa:** Si tienen complicaciones con GitHub, pueden enviar el enlace del cuaderno de Google Colab al aula virtual.\n",
        "3.  **Actividad a Mano (20% de la nota):**\n",
        "    * La asistencia a clase es **obligatoria**.\n",
        "    * Se realizará una actividad práctica de regresión lineal a mano.\n",
        "    * Cada integrante del grupo deberá firmar la hoja de la actividad, la cual constituye el 20% de la nota de este taller."
      ],
      "id": "1KuTZ6PkH8e5"
    },
    {
      "cell_type": "markdown",
      "metadata": {
        "id": "mgaEeFAbH8e7"
      },
      "source": [
        "---"
      ],
      "id": "mgaEeFAbH8e7"
    },
    {
      "cell_type": "markdown",
      "metadata": {
        "id": "et22XL5bH8e7"
      },
      "source": [
        "## **Parte 1: Definición del Problema**\n",
        "\n",
        "Piensa en tu experiencia académica o laboral en un área de operaciones y elige **un problema** relacionado con inventarios, calidad, mantenimiento o productividad.\n",
        "\n",
        "1.  Indica cuál es tu variable dependiente **$Y$** (aquello que quieres predecir o clasificar).\n",
        "2.  Lista entre 3 y 5 variables independientes **$X$** que medirías para predecir $Y$.\n",
        "3.  Especifica si tu problema es de **regresión** (predecir un valor numérico) o de **clasificación**."
      ],
      "id": "et22XL5bH8e7"
    },
    {
      "cell_type": "markdown",
      "metadata": {
        "id": "pxSLPR4AH8e8"
      },
      "source": [
        "**Respuesta (escribe aquí):**\n",
        "Problema: Optimización de inventarios en una empresa de logística.\n",
        "\n",
        "-Variable dependiente (Y): Nivel de inventario óptimo (unidades en bodega).\n",
        "\n",
        "-Variables independientes (X):\n",
        "\n",
        "**Respuesta 1:**\n",
        "Demanda histórica semanal (unidades).\n",
        "\n",
        "Tiempo de entrega del proveedor (días).\n",
        "\n",
        "Variabilidad en la demanda (%).\n",
        "\n",
        "Costo de almacenamiento por unidad (USD).\n",
        "\n",
        "Tipo de problema: Regresión (predicción de un valor numérico).\n",
        "\n",
        "**Respuesta 2:**\n",
        "Problema: Predicción de defectos en una línea de producción textil.\n",
        "\n",
        "-Variable dependiente (Y): Probabilidad de defecto en la prenda (sí/no).\n",
        "\n",
        "-Variables independientes (X):\n",
        "\n",
        "Velocidad de la máquina (m/min).\n",
        "\n",
        "Experiencia del operario (años).\n",
        "\n",
        "Temperatura del ambiente (°C).\n",
        "\n",
        "Tipo de tela (categórica).\n",
        "\n",
        "Tipo de problema: Clasificación (etiqueta binaria).\n",
        "\n",
        "**Respuesta 3:**\n",
        "Problema: Predicción de la productividad en una planta de ensamblaje.\n",
        "\n",
        "-Variable dependiente (Y): Unidades producidas por hora.\n",
        "\n",
        "-Variables independientes (X):\n",
        "\n",
        "Número de operarios por turno.\n",
        "\n",
        "Tiempos de mantenimiento preventivo (horas/mes).\n",
        "\n",
        "Disponibilidad de maquinaria (%).\n",
        "\n",
        "Horas extra trabajadas.\n",
        "\n",
        "Tipo de problema: Regresión (valor numérico)."
      ],
      "id": "pxSLPR4AH8e8"
    },
    {
      "cell_type": "markdown",
      "metadata": {
        "id": "fGoj1KxxH8e8"
      },
      "source": [
        "---"
      ],
      "id": "fGoj1KxxH8e8"
    },
    {
      "cell_type": "markdown",
      "metadata": {
        "id": "eHOtOSQiH8e9"
      },
      "source": [
        "## **Parte 2: Preprocesamiento de Datos y *Leakage***\n",
        "\n",
        "Basado en el caso que definiste en la Parte 1:\n",
        "\n",
        "1.  Lista entre 3 y 5 **transformaciones** que aplicarías a tus datos (ej. imputación de valores faltantes, codificación de variables categóricas, escalado, creación de *lags*, etc.) y **justifica por qué** cada una es necesaria.\n",
        "2.  Señala un posible riesgo de ***data leakage*** (fuga de datos) en tu plan y explica cómo lo evitarías usando un *pipeline* de preprocesamiento.\n",
        "\n",
        "\n"
      ],
      "id": "eHOtOSQiH8e9"
    },
    {
      "cell_type": "markdown",
      "metadata": {
        "id": "6KYkmr9mH8e9"
      },
      "source": [
        "**Respuesta (escribe aquí):**\n",
        "\n",
        "Transformaciones:\n",
        "\n",
        "Imputación de valores faltantes: Para completar datos de demanda o tiempos de entrega cuando falten registros.\n",
        "\n",
        "Codificación de variables categóricas: Por ejemplo, si el proveedor es A, B o C, se usa One-Hot Encoding.\n",
        "\n",
        "Escalado de variables numéricas: Normalizar costos y tiempos de entrega para que no dominen el modelo.\n",
        "\n",
        "Creación de lags: Variables de demanda retrasada (demanda semana anterior, dos semanas antes) para capturar patrones temporales.\n",
        "\n",
        "Detección y tratamiento de outliers: Para evitar distorsiones por registros atípicos (ej. demanda extremadamente alta en una semana).\n",
        "\n",
        "Posible riesgo de leakage: Usar datos futuros de demanda para calcular el inventario actual.\n",
        "\n",
        "Cómo evitarlo: Usar pipelines de scikit-learn que aseguren que la transformación (ej. escalado o imputación) se aplique solo con datos de entrenamiento, no con todo el dataset.\n"
      ],
      "id": "6KYkmr9mH8e9"
    },
    {
      "cell_type": "markdown",
      "metadata": {
        "id": "hbyCKrY6H8e-"
      },
      "source": [
        "---"
      ],
      "id": "hbyCKrY6H8e-"
    },
    {
      "cell_type": "markdown",
      "metadata": {
        "id": "ukCTM2EKH8e-"
      },
      "source": [
        "## **Parte 3: Interpretación y Métricas de Regresión Simple**\n",
        "\n",
        "Para esta sección, elige un caso simple de regresión (puede ser el tuyo o uno hipotético, como predecir la demanda de un producto según su precio).\n",
        "\n",
        "1.  Define claramente las variables **$Y$** y **$X$** junto con sus **unidades** (ej. $Y$: número de unidades vendidas, $X$: precio en dólares).\n",
        "2.  Supón que entrenas un modelo y obtienes una pendiente de **$\\hat{\\beta}_1 = -0.6$**. Escribe una interpretación clara y concisa de este coeficiente en el contexto de tu problema.\n",
        "3.  ¿Qué **métrica** de evaluación usarías (MAE, RMSE, o MAPE) y **por qué** es la más adecuada para tu caso?\n",
        "4.  Menciona **un supuesto** del modelo de regresión lineal que validarías (ej. linealidad, homocedasticidad) y explica **cómo** lo harías (usando un gráfico o una prueba estadística)."
      ],
      "id": "ukCTM2EKH8e-"
    },
    {
      "cell_type": "markdown",
      "metadata": {
        "id": "5KGzW8pSH8e_"
      },
      "source": [
        "**Respuesta (escribe aquí):**\n",
        "Caso: Predecir demanda (Y) según precio (X).\n",
        "\n",
        "Y: Demanda de un producto (unidades vendidas).\n",
        "\n",
        "X: Precio del producto (USD).\n",
        "\n",
        "Interpretación de β^1 = −0.6:\n",
        "Por cada aumento de 1 USD en el precio, la demanda disminuye en 0.6 unidades, manteniendo constantes las demás condiciones.\n",
        "\n",
        "Métrica de evaluación:\n",
        "Usaría MAPE (Mean Absolute Percentage Error), porque mide el error relativo en porcentajes, lo cual es más interpretable para la empresa al hablar de ventas.\n",
        "\n",
        "Supuesto a validar:\n",
        "\n",
        "Linealidad. Se puede verificar con un gráfico de dispersión entre precio y demanda para confirmar que existe una relación aproximadamente lineal.\n",
        "\n"
      ],
      "id": "5KGzW8pSH8e_"
    },
    {
      "cell_type": "markdown",
      "metadata": {
        "id": "NlCf92svH8e_"
      },
      "source": [
        "---"
      ],
      "id": "NlCf92svH8e_"
    },
    {
      "cell_type": "markdown",
      "metadata": {
        "id": "DEOrd_fSH8e_"
      },
      "source": [
        "## **Parte 4: Regresión Múltiple y Colinealidad**\n",
        "\n",
        "Volviendo a tu caso de la Parte 1 (con múltiples variables).\n",
        "\n",
        "1.  Escribe el **vector de variables** $\\vec{X}$ y la **respuesta** $Y$.\n",
        "2.  Explica cómo interpretarías el **coeficiente** de una de tus variables clave (incluyendo unidades y el sentido de la relación: positiva o negativa).\n",
        "3.  Si sospecharas que existe **colinealidad** entre tus variables, menciona **dos acciones** que podrías tomar para mitigarla."
      ],
      "id": "DEOrd_fSH8e_"
    },
    {
      "cell_type": "markdown",
      "metadata": {
        "id": "REUWPUP_H8fA"
      },
      "source": [
        "**Respuesta (escribe aquí):**\n",
        "Vector de variables:\n",
        "\n",
        "Y: Nivel de inventario óptimo.\n",
        "\n",
        "X⃗: [Demanda histórica, Tiempo de entrega, Variabilidad en la demanda, Costo de almacenamiento].\n",
        "\n",
        "Interpretación de un coeficiente:\n",
        "Si el coeficiente del Tiempo de entrega es +5, significa que por cada día adicional de retraso en el proveedor, el inventario óptimo aumenta en 5 unidades (para cubrir el riesgo de desabastecimiento).\n",
        "\n",
        "Acciones frente a colinealidad:\n",
        "\n",
        "Eliminar una de las variables redundantes.\n",
        "\n",
        "Aplicar técnicas como PCA (Análisis de Componentes Principales) para reducir dimensionalidad."
      ],
      "id": "REUWPUP_H8fA"
    },
    {
      "cell_type": "markdown",
      "metadata": {
        "id": "Kfz2bBkzH8fA"
      },
      "source": [
        "---"
      ],
      "id": "Kfz2bBkzH8fA"
    },
    {
      "cell_type": "markdown",
      "metadata": {
        "id": "d0sQYW3DH8fA"
      },
      "source": [
        "## **Parte 5: Interacciones y Multicolinealidad (VIF)**\n",
        "\n",
        "1.  Plantea un caso con una variable $Y$ y entre 4 y 6 variables $X$. ¿Qué término de **interacción** entre dos variables podrías añadir al modelo y **por qué** crees que sería útil?\n",
        "2.  Si al calcular el Factor de Inflación de la Varianza (VIF) para una variable, obtienes un valor alto (ej. > 10), menciona **dos acciones** que podrías tomar para solucionarlo."
      ],
      "id": "d0sQYW3DH8fA"
    },
    {
      "cell_type": "markdown",
      "metadata": {
        "id": "tEgefQ1cH8fA"
      },
      "source": [
        "**Respuesta (escribe aquí):**\n",
        "Caso:\n",
        "\n",
        "Y: Unidades producidas por hora.\n",
        "\n",
        "X: [Número de operarios, Horas de mantenimiento, Disponibilidad de maquinaria, Horas extra, Temperatura ambiente].\n",
        "\n",
        "Término de interacción útil:\n",
        "\n",
        "Número de operarios × Disponibilidad de maquinaria.\n",
        "Justificación: más operarios solo aumentan productividad si las máquinas están disponibles; de lo contrario, no aportan.\n",
        "\n",
        "Si VIF > 10:\n",
        "\n",
        "Eliminar la variable con alta correlación con otras.\n",
        "\n",
        "Transformar variables correlacionadas en una sola (ej. combinación o promedio)."
      ],
      "id": "tEgefQ1cH8fA"
    },
    {
      "cell_type": "markdown",
      "metadata": {
        "id": "8XdQIyu_H8fB"
      },
      "source": [
        "---"
      ],
      "id": "8XdQIyu_H8fB"
    },
    {
      "cell_type": "markdown",
      "metadata": {
        "id": "XKsr-uPlH8fB"
      },
      "source": [
        "## **Parte 6: Variables Categóricas e Interacciones**\n",
        "\n",
        "1.  Define una **variable categórica** para tu caso (puedes inventarla si no la tenías). Elige una de sus categorías como el nivel **base** o de referencia y **justifica** tu elección.\n",
        "2.  Crea una **interacción** entre una variable numérica y la variable categórica que definiste. Explica cómo se interpretaría el coeficiente de esta interacción."
      ],
      "id": "XKsr-uPlH8fB"
    },
    {
      "cell_type": "markdown",
      "metadata": {
        "id": "7i_JBwwbH8fC"
      },
      "source": [
        "**Respuesta (escribe aquí):**\n",
        "Variable categórica: Tipo de proveedor (A, B, C).\n",
        "\n",
        "Nivel de referencia: Proveedor A, porque es el más frecuente en el historial.\n",
        "\n",
        "Interacción:\n",
        "\n",
        "Tiempo de entrega × Proveedor.\n",
        "Interpretación: el coeficiente muestra cómo cambia el efecto del tiempo de entrega en el inventario dependiendo del proveedor. Ejemplo: si Proveedor B suele retrasarse más, la pendiente será mayor que la de A."
      ],
      "id": "7i_JBwwbH8fC"
    },
    {
      "cell_type": "markdown",
      "metadata": {
        "id": "DjYrQWpqH8fC"
      },
      "source": [
        "---"
      ],
      "id": "DjYrQWpqH8fC"
    },
    {
      "cell_type": "markdown",
      "metadata": {
        "id": "mG9YJpeoH8fC"
      },
      "source": [
        "## **Parte 7: Conceptos Clave de Clasificación**\n",
        "\n",
        "Aunque el taller se centra en regresión, estos conceptos son fundamentales en Machine Learning.\n",
        "\n",
        "1.  Explica qué es la **curva ROC** y para qué se utiliza en un problema de clasificación.\n",
        "2.  Define el concepto de **accuracy** (exactitud) y menciona una situación en la que podría ser una métrica engañosa.\n",
        "3.  Describe qué es una **matriz de confusión** y cómo se interpretan sus componentes (Verdaderos Positivos, Falsos Positivos, Verdaderos Negativos, Falsos Negativos)."
      ],
      "id": "mG9YJpeoH8fC"
    },
    {
      "cell_type": "markdown",
      "metadata": {
        "id": "aq-cYN3nH8fD"
      },
      "source": [
        "**Respuesta (escribe aquí):**\n",
        "\n",
        "Curva ROC:\n",
        "Es una gráfica que muestra la relación entre tasa de verdaderos positivos (TPR) y tasa de falsos positivos (FPR) para diferentes umbrales de decisión. Se utiliza para evaluar qué tan bien un modelo distingue entre clases.\n",
        "\n",
        "Accuracy:\n",
        "Es la proporción de predicciones correctas sobre el total.\n",
        "\n",
        "Puede ser engañosa en problemas desbalanceados (ej. detectar fraudes, donde 99% de las transacciones son legítimas).\n",
        "\n",
        "Matriz de confusión:\n",
        "Tabla que compara predicciones con valores reales:\n",
        "\n",
        "VP (Verdaderos Positivos): Casos positivos correctamente clasificados.\n",
        "\n",
        "FP (Falsos Positivos): Casos negativos clasificados erróneamente como positivos.\n",
        "\n",
        "VN (Verdaderos Negativos): Casos negativos correctamente clasificados.\n",
        "\n",
        "FN (Falsos Negativos): Casos positivos que el modelo no detectó."
      ],
      "id": "aq-cYN3nH8fD"
    }
  ],
  "metadata": {
    "kernelspec": {
      "display_name": "Python 3",
      "language": "python",
      "name": "python3"
    },
    "language_info": {
      "name": "python",
      "version": "3.x"
    },
    "colab": {
      "provenance": [],
      "include_colab_link": true
    }
  },
  "nbformat": 4,
  "nbformat_minor": 5
}